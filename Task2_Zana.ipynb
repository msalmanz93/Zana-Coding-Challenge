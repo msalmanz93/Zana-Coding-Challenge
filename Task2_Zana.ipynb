{
  "nbformat": 4,
  "nbformat_minor": 0,
  "metadata": {
    "colab": {
      "name": "Task2_Zana.ipynb",
      "provenance": [],
      "authorship_tag": "ABX9TyPhlg8GK4dtJHXYokxvO5Ng",
      "include_colab_link": true
    },
    "kernelspec": {
      "name": "python3",
      "display_name": "Python 3"
    }
  },
  "cells": [
    {
      "cell_type": "markdown",
      "metadata": {
        "id": "view-in-github",
        "colab_type": "text"
      },
      "source": [
        "<a href=\"https://colab.research.google.com/github/msalmanz93/Zana-Coding-Challenge/blob/master/Task2_Zana.ipynb\" target=\"_parent\"><img src=\"https://colab.research.google.com/assets/colab-badge.svg\" alt=\"Open In Colab\"/></a>"
      ]
    },
    {
      "cell_type": "code",
      "metadata": {
        "id": "EqIOV6KYOvPr",
        "colab_type": "code",
        "colab": {}
      },
      "source": [
        "#Install tflearn\n",
        "!pip install tflearn"
      ],
      "execution_count": 0,
      "outputs": []
    },
    {
      "cell_type": "code",
      "metadata": {
        "id": "OQH2OyS1TIXB",
        "colab_type": "code",
        "colab": {}
      },
      "source": [
        "#Older version of tensorflow is required since some modules of tflearn isn't supported by  \n",
        "!pip uninstall tensorflow\n",
        "pip install tensorflow==1.14"
      ],
      "execution_count": 0,
      "outputs": []
    },
    {
      "cell_type": "code",
      "metadata": {
        "id": "8Taqc_YvanMd",
        "colab_type": "code",
        "colab": {}
      },
      "source": [
        "import nltk\n",
        "nltk.download('punkt')"
      ],
      "execution_count": 0,
      "outputs": []
    },
    {
      "cell_type": "code",
      "metadata": {
        "id": "hFxWPv8EUASx",
        "colab_type": "code",
        "colab": {}
      },
      "source": [
        "# things we need for NLP\n",
        "import nltk\n",
        "from nltk.stem.lancaster import LancasterStemmer\n",
        "stemmer = LancasterStemmer()\n",
        "\n",
        "# things we need for Tensorflow\n",
        "import numpy as np\n",
        "import tflearn\n",
        "import tensorflow as tf\n",
        "import random"
      ],
      "execution_count": 0,
      "outputs": []
    },
    {
      "cell_type": "code",
      "metadata": {
        "id": "GfWJ39brZfYG",
        "colab_type": "code",
        "colab": {}
      },
      "source": [
        "from google.colab import files\n",
        "uploaded = files.upload()"
      ],
      "execution_count": 0,
      "outputs": []
    },
    {
      "cell_type": "code",
      "metadata": {
        "id": "zqtKfjgyYQB8",
        "colab_type": "code",
        "colab": {}
      },
      "source": [
        "# import the json intent file\n",
        "import json\n",
        "with open('intent.json') as json_data:\n",
        "    intents = json.load(json_data)"
      ],
      "execution_count": 0,
      "outputs": []
    },
    {
      "cell_type": "markdown",
      "metadata": {
        "id": "OdKQ-Lo2_kcb",
        "colab_type": "text"
      },
      "source": [
        "# **Preparing Data**\n",
        "*   Tokenise patterns into array of words\n",
        "*   Lower case and stem all words. Example: Pharmacy = pharm. Attempt to represent related words\n",
        "*   Create list of classes — intents\n",
        "*   Create list of documents — combination between list of patterns and list of intents"
      ]
    },
    {
      "cell_type": "code",
      "metadata": {
        "id": "uabGREvFjSIq",
        "colab_type": "code",
        "outputId": "89527a9b-184c-47ef-a0bb-ba5c92271e5d",
        "colab": {
          "base_uri": "https://localhost:8080/",
          "height": 88
        }
      },
      "source": [
        "words = []\n",
        "classes = []\n",
        "documents = []\n",
        "ignore_words = ['?']\n",
        "# loop through each sentence in our intents patterns\n",
        "for intent in intents['intents']:\n",
        "    for pattern in intent['patterns']:\n",
        "        # tokenize each word in the sentence\n",
        "        w = nltk.word_tokenize(pattern)\n",
        "        # add to our words list\n",
        "        words.extend(w)\n",
        "        # add to documents in our corpus\n",
        "        documents.append((w, intent['tag']))\n",
        "        # add to our classes list\n",
        "        if intent['tag'] not in classes:\n",
        "            classes.append(intent['tag'])\n",
        "\n",
        "# stem and lower each word and remove duplicates\n",
        "words = [stemmer.stem(w.lower()) for w in words if w not in ignore_words]\n",
        "words = sorted(list(set(words)))\n",
        "\n",
        "# sort classes\n",
        "classes = sorted(list(set(classes)))\n",
        "\n",
        "# documents = combination between patterns and intents\n",
        "print (len(documents), \"documents\")\n",
        "# classes = intents\n",
        "print (len(classes), \"classes\", classes)\n",
        "# words = all words, vocabulary\n",
        "print (len(words), \"unique stemmed words\", words)"
      ],
      "execution_count": 0,
      "outputs": [
        {
          "output_type": "stream",
          "text": [
            "45 documents\n",
            "9 classes ['adverse_drug', 'blood_pressure', 'blood_pressure_search', 'goodbye', 'greeting', 'hospital_search', 'options', 'pharmacy_search', 'thanks']\n",
            "82 unique stemmed words [\"'s\", ',', 'a', 'advers', 'al', 'anyon', 'ar', 'awesom', 'be', 'behavy', 'blood', 'by', 'bye', 'can', 'caus', 'chat', 'check', 'could', 'dat', 'day', 'detail', 'do', 'dont', 'drug', 'entry', 'find', 'for', 'giv', 'good', 'goodby', 'hav', 'hello', 'help', 'hi', 'hist', 'hospit', 'how', 'i', 'id', 'is', 'lat', 'list', 'load', 'loc', 'log', 'look', 'lookup', 'man', 'me', 'mod', 'nearby', 'next', 'nic', 'of', 'off', 'op', 'paty', 'pharm', 'press', 'provid', 'react', 'rel', 'result', 'search', 'see', 'show', 'suit', 'support', 'task', 'thank', 'that', 'ther', 'til', 'tim', 'to', 'transf', 'up', 'want', 'what', 'which', 'with', 'you']\n"
          ],
          "name": "stdout"
        }
      ]
    },
    {
      "cell_type": "markdown",
      "metadata": {
        "id": "ppUc0oEN_8zk",
        "colab_type": "text"
      },
      "source": [
        "# **Training** Neural Network \n",
        "*   Define X input shape = equal to word vocabulary size \n",
        "*   Define two layers with 8 hidden neurones — optimal for text classification task (based on experiments) \n",
        "*   Define Y input shape — equal to number of intents"
      ]
    },
    {
      "cell_type": "code",
      "metadata": {
        "id": "bLBv1Z9QayT9",
        "colab_type": "code",
        "colab": {}
      },
      "source": [
        "# create our training data\n",
        "training = []\n",
        "# create an empty array for our output\n",
        "output_empty = [0] * len(classes)\n",
        "\n",
        "# training set, bag of words for each sentence\n",
        "for doc in documents:\n",
        "    # initialize our bag of words\n",
        "    bag = []\n",
        "    # list of tokenized words for the pattern\n",
        "    pattern_words = doc[0]\n",
        "    # stem each word - create base word, in attempt to represent related words\n",
        "    pattern_words = [stemmer.stem(word.lower()) for word in pattern_words]\n",
        "    # create our bag of words array with 1, if word match found in current pattern\n",
        "    for w in words:\n",
        "        bag.append(1) if w in pattern_words else bag.append(0)\n",
        "    \n",
        "    # output is a '0' for each tag and '1' for current tag (for each pattern)\n",
        "    output_row = list(output_empty)\n",
        "    output_row[classes.index(doc[1])] = 1\n",
        "    \n",
        "    training.append([bag, output_row])\n",
        "\n",
        "# shuffle our features and turn into np.array\n",
        "random.shuffle(training)\n",
        "training = np.array(training)\n",
        "\n",
        "# create train and test lists. X - patterns, Y - intents\n",
        "train_x = list(training[:,0])\n",
        "train_y = list(training[:,1])"
      ],
      "execution_count": 0,
      "outputs": []
    },
    {
      "cell_type": "markdown",
      "metadata": {
        "id": "XO6hnlOOCA-i",
        "colab_type": "text"
      },
      "source": [
        "*   Apply regression to find the best equation parameters\n",
        "*   Run model.fit to construct classification model. Provide X/Y inputs, number of epochs and batch size\n",
        "*   Per each epoch, multiple operations are executed to find optimal model parameters to classify future input converted to array of 0/1\n",
        "\n",
        "\n",
        "\n"
      ]
    },
    {
      "cell_type": "code",
      "metadata": {
        "id": "krQXPL3mcKrq",
        "colab_type": "code",
        "outputId": "db6d8b0b-558c-4978-e70e-8df9f3cccd24",
        "colab": {
          "base_uri": "https://localhost:8080/",
          "height": 119
        }
      },
      "source": [
        "# reset underlying graph data\n",
        "tf.reset_default_graph()\n",
        "# Build neural network - input data shape, number of words in vocabulary (size of first array element). \n",
        "net = tflearn.input_data(shape=[None, len(train_x[0])])\n",
        "# Two fully connected layers with 8 hidden units/neurons - optimal for this task\n",
        "net = tflearn.fully_connected(net, 8)\n",
        "net = tflearn.fully_connected(net, 8)\n",
        "# number of intents, columns in the matrix train_y\n",
        "net = tflearn.fully_connected(net, len(train_y[0]), activation='softmax')\n",
        "# regression to find best parameters, during training\n",
        "net = tflearn.regression(net)\n",
        "\n",
        "# Define Deep Neural Network model and setup tensorboard\n",
        "model = tflearn.DNN(net, tensorboard_dir='tflearn_chatbot_redsamurai_medical_logs')\n",
        "# Start training (apply gradient descent algorithm)\n",
        "# n_epoch - number of epoch to run\n",
        "# Batch size defines number of samples that going to be propagated through the network.\n",
        "model.fit(train_x, train_y, n_epoch=1000, batch_size=5, show_metric=True)\n",
        "model.save('chatbot_redsamurai_medical_model.tflearn')"
      ],
      "execution_count": 0,
      "outputs": [
        {
          "output_type": "stream",
          "text": [
            "Training Step: 8999  | total loss: \u001b[1m\u001b[32m0.21150\u001b[0m\u001b[0m | time: 0.025s\n",
            "| Adam | epoch: 1000 | loss: 0.21150 - acc: 0.9882 -- iter: 40/45\n",
            "Training Step: 9000  | total loss: \u001b[1m\u001b[32m0.19273\u001b[0m\u001b[0m | time: 0.028s\n",
            "| Adam | epoch: 1000 | loss: 0.19273 - acc: 0.9882 -- iter: 45/45\n",
            "--\n",
            "INFO:tensorflow:/content/chatbot_redsamurai_medical_model.tflearn is not in all_model_checkpoint_paths. Manually adding it.\n"
          ],
          "name": "stdout"
        }
      ]
    },
    {
      "cell_type": "markdown",
      "metadata": {
        "id": "CQam1Bp-DMEM",
        "colab_type": "text"
      },
      "source": [
        "# **Initial Model Testing**\n",
        "\n",
        "*   Tokenise input sentence — split it into array of words\n",
        "*   Create bag of words (array with 0/1) for the input sentence — array equal to the size of vocabulary, with 1 for each word found in input sentence\n",
        "*   Run model.predict with given bag of words array, this will return probability for each intent\n",
        "\n",
        "\n",
        "\n"
      ]
    },
    {
      "cell_type": "code",
      "metadata": {
        "id": "S-57JAE-fsIf",
        "colab_type": "code",
        "colab": {}
      },
      "source": [
        "def clean_up_sentence(sentence):\n",
        "    # tokenize the pattern - split words into array\n",
        "    sentence_words = nltk.word_tokenize(sentence)\n",
        "    # stem each word - create short form for word\n",
        "    sentence_words = [stemmer.stem(word.lower()) for word in sentence_words]\n",
        "    return sentence_words\n",
        "\n",
        "# return bag of words array: 0 or 1 for each word in the bag that exists in the sentence\n",
        "def bow(sentence, words, show_details=True):\n",
        "    # tokenize the pattern\n",
        "    sentence_words = clean_up_sentence(sentence)\n",
        "    # bag of words - matrix of N words, vocabulary matrix\n",
        "    bag = [0]*len(words)  \n",
        "    for s in sentence_words:\n",
        "        for i,w in enumerate(words):\n",
        "            if w == s: \n",
        "                # assign 1 if current word is in the vocabulary position\n",
        "                bag[i] = 1\n",
        "                if show_details:\n",
        "                    print (\"found in bag: %s\" % w)\n",
        "\n",
        "    return(np.array(bag))"
      ],
      "execution_count": 0,
      "outputs": []
    },
    {
      "cell_type": "code",
      "metadata": {
        "id": "HWRCwZBlfwV-",
        "colab_type": "code",
        "outputId": "375e235c-256f-4e0c-857f-ea3aceeff8ac",
        "colab": {
          "base_uri": "https://localhost:8080/",
          "height": 153
        }
      },
      "source": [
        "p = bow(\"Load blood pessure for patient\", words)\n",
        "print (p)\n",
        "print (classes)"
      ],
      "execution_count": 0,
      "outputs": [
        {
          "output_type": "stream",
          "text": [
            "found in bag: load\n",
            "found in bag: blood\n",
            "found in bag: for\n",
            "found in bag: paty\n",
            "[0 0 0 0 0 0 0 0 0 0 1 0 0 0 0 0 0 0 0 0 0 0 0 0 0 0 1 0 0 0 0 0 0 0 0 0 0\n",
            " 0 0 0 0 0 1 0 0 0 0 0 0 0 0 0 0 0 0 0 1 0 0 0 0 0 0 0 0 0 0 0 0 0 0 0 0 0\n",
            " 0 0 0 0 0 0 0 0]\n",
            "['adverse_drug', 'blood_pressure', 'blood_pressure_search', 'goodbye', 'greeting', 'hospital_search', 'options', 'pharmacy_search', 'thanks']\n"
          ],
          "name": "stdout"
        }
      ]
    },
    {
      "cell_type": "code",
      "metadata": {
        "id": "neFl-kl5f_St",
        "colab_type": "code",
        "outputId": "85737842-803f-40c0-b31d-fc62aadf65d8",
        "colab": {
          "base_uri": "https://localhost:8080/",
          "height": 51
        }
      },
      "source": [
        "print(model.predict([p]))"
      ],
      "execution_count": 0,
      "outputs": [
        {
          "output_type": "stream",
          "text": [
            "[[5.6332779e-11 5.1041122e-04 7.9476154e-01 3.2390458e-06 1.6157302e-06\n",
            "  2.0472319e-01 1.8833681e-13 7.8192126e-11 2.9850671e-08]]\n"
          ],
          "name": "stdout"
        }
      ]
    }
  ]
}